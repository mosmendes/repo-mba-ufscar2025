{
  "nbformat": 4,
  "nbformat_minor": 0,
  "metadata": {
    "colab": {
      "provenance": [],
      "include_colab_link": true
    },
    "kernelspec": {
      "name": "python3",
      "display_name": "Python 3"
    },
    "language_info": {
      "name": "python"
    }
  },
  "cells": [
    {
      "cell_type": "markdown",
      "metadata": {
        "id": "view-in-github",
        "colab_type": "text"
      },
      "source": [
        "<a href=\"https://colab.research.google.com/github/mosmendes/repo-mba-ufscar2025/blob/main/2025_1_MBA_MLP_Atividade_1_22mar.ipynb\" target=\"_parent\"><img src=\"https://colab.research.google.com/assets/colab-badge.svg\" alt=\"Open In Colab\"/></a>"
      ]
    },
    {
      "cell_type": "markdown",
      "metadata": {
        "id": "dYXRA26pnJ1V"
      },
      "source": [
        "# **Atividade 1**\n",
        "\n",
        "Abaixo encontra-se a classe Dataset e os datasets gerados que serão usados na Atividade 1. As buscas pedidas na Atividade 1 serão feitas utilizando o método `search` da classe Dataset.\n",
        "\n",
        "Importante lembrar que o código da classe Dataset não precisa ser alterado. Recomenda-se leitura e entendimento do mesmo."
      ]
    },
    {
      "cell_type": "code",
      "metadata": {
        "id": "TnVf2MycnFl6"
      },
      "source": [
        "import time\n",
        "import random\n",
        "\n",
        "\n",
        "class Dataset(object):\n",
        "\n",
        "    def __init__(self, struct_type, size):\n",
        "        self.struct_type = struct_type\n",
        "        self.size = size\n",
        "        self.items = self._generate_dataset()\n",
        "\n",
        "    @staticmethod\n",
        "    def generate_cpf():\n",
        "\n",
        "        cpf = [random.randint(0, 9) for x in range(11)]\n",
        "\n",
        "        # for _ in range(2):\n",
        "        #     val = sum([(len(cpf) + 1 - i) * v for i, v in enumerate(cpf)]) % 11\n",
        "\n",
        "        #     cpf.append(11 - val if val > 1 else 0)\n",
        "\n",
        "        return '%s%s%s.%s%s%s.%s%s%s-%s%s' % tuple(cpf)\n",
        "\n",
        "    def _generate_dataset(self):\n",
        "\n",
        "        if self.struct_type == 'structure_1':\n",
        "            return sorted([Dataset.generate_cpf() for n in range(self.size)])\n",
        "\n",
        "        elif self.struct_type == 'structure_2':\n",
        "            return {Dataset.generate_cpf(): i for i, _ in enumerate(range(self.size))}\n",
        "        else:\n",
        "            raise Exception('struct_type must be \"structure_1\" or \"structure_2\"')\n",
        "\n",
        "    def _function_1(self, value):\n",
        "\n",
        "        found = False\n",
        "        for item in self.items:\n",
        "\n",
        "            if item == value:\n",
        "                found = True\n",
        "                break\n",
        "\n",
        "        return found\n",
        "\n",
        "    def _function_2(self, value):\n",
        "\n",
        "        start, end = 0, len(self.items) - 1\n",
        "\n",
        "        while start <= end:\n",
        "\n",
        "            mid = start + (end - start) // 2\n",
        "            if value > self.items[mid]:\n",
        "                start = mid + 1\n",
        "            elif value < self.items[mid]:\n",
        "                end = mid - 1\n",
        "            else:\n",
        "                return mid\n",
        "\n",
        "        return -1\n",
        "\n",
        "    def _function_3(self, value):\n",
        "        return self.items.get(value)\n",
        "\n",
        "    def search(self, value, search_type):\n",
        "\n",
        "        if self.struct_type == 'structure_1':\n",
        "\n",
        "            if search_type == 'function_1':\n",
        "                self._function_1(value)\n",
        "            elif search_type == 'function_2':\n",
        "                self._function_2(value)\n",
        "            else:\n",
        "                raise Exception('search_type of Structure1Dataset must be \"function_1\" or \"function_2\"')\n",
        "\n",
        "        elif self.struct_type == 'structure_2':\n",
        "\n",
        "            if search_type == 'function_3':\n",
        "                self._function_3(value)\n",
        "            else:\n",
        "                raise Exception('search_type of Structure2Dataset must be \"function_3\"')\n",
        "\n"
      ],
      "execution_count": null,
      "outputs": []
    },
    {
      "cell_type": "markdown",
      "metadata": {
        "id": "MdH5uSMAfcnX"
      },
      "source": [
        "## *Exemplo de Criação dos Datasets*\n",
        "\n",
        "O exemplo abaixo será usado para executar **2 tipos de busca**: function_1 e function_2.\n",
        "\n"
      ]
    },
    {
      "cell_type": "code",
      "metadata": {
        "id": "0HqP72aUoYRt"
      },
      "source": [
        "structure_1_dataset_10 = Dataset('structure_1', 10)\n",
        "structure_1_dataset_100 = Dataset('structure_1', 100)\n",
        "structure_1_dataset_1000 = Dataset('structure_1', 1000)\n",
        "# structure_1_dataset_10000 = Dataset('structure_1', 10000)\n",
        "# structure_1_dataset_100000 = Dataset('structure_1', 100000)\n",
        "# structure_1_dataset_1000000 = Dataset('structure_1', 1000000)"
      ],
      "execution_count": null,
      "outputs": []
    },
    {
      "cell_type": "markdown",
      "metadata": {
        "id": "q6hjS-swodTq"
      },
      "source": [
        "O exemplo abaixo será usado para executar **1 tipo de busca**: function_3\n"
      ]
    },
    {
      "cell_type": "code",
      "metadata": {
        "id": "5v5R_dy5oh3T"
      },
      "source": [
        "structure_2_dataset_10 = Dataset('structure_2', 10)\n",
        "structure_2_dataset_100 = Dataset('structure_2', 100)\n",
        "structure_2_dataset_1000 = Dataset('structure_2', 1000)\n",
        "# structure_2_dataset_10000 = Dataset('structure_2', 10000)\n",
        "# structure_2_dataset_100000 = Dataset('structure_2', 100000)\n",
        "# structure_2_dataset_1000000 = Dataset('structure_2', 1000000)"
      ],
      "execution_count": null,
      "outputs": []
    },
    {
      "cell_type": "markdown",
      "metadata": {
        "id": "7uYEjXi5okvi"
      },
      "source": [
        "Cada teste envolverá um tamanho de conjunto de dados e uma função de busca. No mesmo serão realizadas **10000 buscas** por chaves geradas aleatoriamente e o **tempo total do teste** será colocado na tabela da Atividade 1.\n",
        "\n",
        "As função citadas no enunciado da Atividade 1 são, respectivamente: `function_1`, `function_2` e `function_3`. As buscas `function_1` e `function_2` devem ser executadas em datasets do tipo `structure_1` e buscas do tipo `function_3` devem ser executadas em datasets do tipo `structure_2`.\n",
        "\n",
        "Abaixo está o código para preenchimento da primeira linha da tabela:"
      ]
    },
    {
      "cell_type": "code",
      "metadata": {
        "id": "MjeZpWAMfa2i"
      },
      "source": [
        "def search(dataset, search_type):\n",
        "\n",
        "    # número de buscas, não mexer neste parâmetro\n",
        "    search_batch = 10_000\n",
        "\n",
        "    # gerando CPFs aleatórios para busca\n",
        "    cpf_to_search = [Dataset.generate_cpf() for _ in range(search_batch)]\n",
        "\n",
        "    start = time.time()\n",
        "    for i in range(search_batch): # buscando\n",
        "        dataset.search(cpf_to_search[i], search_type)\n",
        "\n",
        "    return time.time() - start\n",
        "\n",
        "\n",
        "structure_1_dataset_function_1_time = search(structure_1_dataset_10, 'function_1')\n",
        "structure_1_dataset_function_2_time = search(structure_1_dataset_10, 'function_2')\n",
        "structure_2_dataset_function_3_time = search(structure_2_dataset_10, 'function_3')\n",
        "\n",
        "print(structure_1_dataset_function_1_time,\n",
        "      structure_1_dataset_function_2_time,\n",
        "      structure_2_dataset_function_3_time)"
      ],
      "execution_count": null,
      "outputs": []
    },
    {
      "cell_type": "markdown",
      "metadata": {
        "id": "1sgdPoYw9T60"
      },
      "source": [
        "Tentem preencher o maior número de campos da tabela usando o exemplo visto neste documento. As dúvidas podem ser tiradas com os professores durante os horários de antendimento."
      ]
    }
  ]
}